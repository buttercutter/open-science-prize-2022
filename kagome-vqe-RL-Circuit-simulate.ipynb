{
 "cells": [
  {
   "cell_type": "code",
   "execution_count": 1,
   "id": "5a4a6812-f98b-48e5-8788-0fb802798461",
   "metadata": {},
   "outputs": [
    {
     "name": "stderr",
     "output_type": "stream",
     "text": [
      "<frozen importlib._bootstrap>:219: RuntimeWarning: scipy._lib.messagestream.MessageStream size changed, may indicate binary incompatibility. Expected 56 from C header, got 64 from PyObject\n",
      "/tmp/ipykernel_92/3452382206.py:6: NatureDeprecationWarning: The qiskit_nature.operators package is deprecated as of version 0.5.0 and will be removed no sooner than 3 months after the release. Instead use the qiskit_nature.second_q.operators package.\n",
      "  from heisenberg_model import HeisenbergModel;\n"
     ]
    },
    {
     "name": "stdout",
     "output_type": "stream",
     "text": [
      "Collecting qiskit-ignis\n",
      "  Using cached qiskit_ignis-0.7.1-py3-none-any.whl (198 kB)\n",
      "Requirement already satisfied: retworkx>=0.8.0 in /opt/conda/lib/python3.8/site-packages (from qiskit-ignis) (0.11.0)\n",
      "Requirement already satisfied: qiskit-terra>=0.15.1 in /opt/conda/lib/python3.8/site-packages (from qiskit-ignis) (0.22.2)\n",
      "Requirement already satisfied: setuptools>=40.1.0 in /opt/conda/lib/python3.8/site-packages (from qiskit-ignis) (61.2.0)\n",
      "Requirement already satisfied: scipy!=0.19.1,>=0.19 in /opt/conda/lib/python3.8/site-packages (from qiskit-ignis) (1.8.0)\n",
      "Requirement already satisfied: numpy>=1.13 in /opt/conda/lib/python3.8/site-packages (from qiskit-ignis) (1.22.4)\n",
      "Requirement already satisfied: psutil>=5 in /opt/conda/lib/python3.8/site-packages (from qiskit-terra>=0.15.1->qiskit-ignis) (5.9.0)\n",
      "Requirement already satisfied: dill>=0.3 in /opt/conda/lib/python3.8/site-packages (from qiskit-terra>=0.15.1->qiskit-ignis) (0.3.4)\n",
      "Requirement already satisfied: ply>=3.10 in /opt/conda/lib/python3.8/site-packages (from qiskit-terra>=0.15.1->qiskit-ignis) (3.11)\n",
      "Requirement already satisfied: stevedore>=3.0.0 in /opt/conda/lib/python3.8/site-packages (from qiskit-terra>=0.15.1->qiskit-ignis) (3.5.0)\n",
      "Requirement already satisfied: tweedledum<2.0,>=1.1 in /opt/conda/lib/python3.8/site-packages (from qiskit-terra>=0.15.1->qiskit-ignis) (1.1.1)\n",
      "Requirement already satisfied: sympy>=1.3 in /opt/conda/lib/python3.8/site-packages (from qiskit-terra>=0.15.1->qiskit-ignis) (1.10.1)\n",
      "Requirement already satisfied: symengine>=0.9 in /opt/conda/lib/python3.8/site-packages (from qiskit-terra>=0.15.1->qiskit-ignis) (0.9.2)\n",
      "Requirement already satisfied: python-dateutil>=2.8.0 in /opt/conda/lib/python3.8/site-packages (from qiskit-terra>=0.15.1->qiskit-ignis) (2.8.2)\n",
      "Requirement already satisfied: six>=1.5 in /opt/conda/lib/python3.8/site-packages (from python-dateutil>=2.8.0->qiskit-terra>=0.15.1->qiskit-ignis) (1.16.0)\n",
      "Requirement already satisfied: pbr!=2.1.0,>=2.0.0 in /opt/conda/lib/python3.8/site-packages (from stevedore>=3.0.0->qiskit-terra>=0.15.1->qiskit-ignis) (5.8.1)\n",
      "Requirement already satisfied: mpmath>=0.19 in /opt/conda/lib/python3.8/site-packages (from sympy>=1.3->qiskit-terra>=0.15.1->qiskit-ignis) (1.2.1)\n",
      "Installing collected packages: qiskit-ignis\n",
      "Successfully installed qiskit-ignis-0.7.1\n",
      "Collecting stable_baselines3\n",
      "  Using cached stable_baselines3-1.6.2-py3-none-any.whl (170 kB)\n",
      "Collecting tensorboard\n",
      "  Using cached tensorboard-2.11.0-py3-none-any.whl (6.0 MB)\n",
      "Requirement already satisfied: numpy in /opt/conda/lib/python3.8/site-packages (from stable_baselines3) (1.22.4)\n",
      "Collecting importlib-metadata~=4.13\n",
      "  Using cached importlib_metadata-4.13.0-py3-none-any.whl (23 kB)\n",
      "Requirement already satisfied: matplotlib in /opt/conda/lib/python3.8/site-packages (from stable_baselines3) (3.5.1)\n",
      "Requirement already satisfied: pandas in /opt/conda/lib/python3.8/site-packages (from stable_baselines3) (1.3.5)\n",
      "Collecting gym==0.21\n",
      "  Using cached gym-0.21.0-py3-none-any.whl\n",
      "Requirement already satisfied: cloudpickle in /opt/conda/lib/python3.8/site-packages (from stable_baselines3) (1.6.0)\n",
      "Requirement already satisfied: torch>=1.11 in /opt/conda/lib/python3.8/site-packages (from stable_baselines3) (1.13.0+rocm5.2)\n",
      "Requirement already satisfied: zipp>=0.5 in /opt/conda/lib/python3.8/site-packages (from importlib-metadata~=4.13->stable_baselines3) (3.7.0)\n",
      "Requirement already satisfied: typing-extensions in /opt/conda/lib/python3.8/site-packages (from torch>=1.11->stable_baselines3) (4.4.0)\n",
      "Collecting absl-py>=0.4\n",
      "  Using cached absl_py-1.3.0-py3-none-any.whl (124 kB)\n",
      "Requirement already satisfied: setuptools>=41.0.0 in /opt/conda/lib/python3.8/site-packages (from tensorboard) (61.2.0)\n",
      "Collecting werkzeug>=1.0.1\n",
      "  Using cached Werkzeug-2.2.2-py3-none-any.whl (232 kB)\n",
      "Requirement already satisfied: requests<3,>=2.21.0 in /opt/conda/lib/python3.8/site-packages (from tensorboard) (2.27.1)\n",
      "Requirement already satisfied: wheel>=0.26 in /opt/conda/lib/python3.8/site-packages (from tensorboard) (0.38.2)\n",
      "Collecting grpcio>=1.24.3\n",
      "  Using cached grpcio-1.51.1-cp38-cp38-manylinux_2_17_x86_64.manylinux2014_x86_64.whl (4.8 MB)\n",
      "Collecting tensorboard-plugin-wit>=1.6.0\n",
      "  Using cached tensorboard_plugin_wit-1.8.1-py3-none-any.whl (781 kB)\n",
      "Collecting markdown>=2.6.8\n",
      "  Using cached Markdown-3.4.1-py3-none-any.whl (93 kB)\n",
      "Collecting google-auth<3,>=1.6.3\n",
      "  Using cached google_auth-2.15.0-py2.py3-none-any.whl (177 kB)\n",
      "Collecting google-auth-oauthlib<0.5,>=0.4.1\n",
      "  Using cached google_auth_oauthlib-0.4.6-py2.py3-none-any.whl (18 kB)\n",
      "Requirement already satisfied: protobuf<4,>=3.9.2 in /opt/conda/lib/python3.8/site-packages (from tensorboard) (3.14.0)\n",
      "Collecting tensorboard-data-server<0.7.0,>=0.6.0\n",
      "  Using cached tensorboard_data_server-0.6.1-py3-none-manylinux2010_x86_64.whl (4.9 MB)\n",
      "Requirement already satisfied: six>=1.9.0 in /opt/conda/lib/python3.8/site-packages (from google-auth<3,>=1.6.3->tensorboard) (1.16.0)\n",
      "Collecting pyasn1-modules>=0.2.1\n",
      "  Using cached pyasn1_modules-0.2.8-py2.py3-none-any.whl (155 kB)\n",
      "Collecting rsa<5,>=3.1.4\n",
      "  Using cached rsa-4.9-py3-none-any.whl (34 kB)\n",
      "Collecting cachetools<6.0,>=2.0.0\n",
      "  Using cached cachetools-5.2.0-py3-none-any.whl (9.3 kB)\n",
      "Collecting requests-oauthlib>=0.7.0\n",
      "  Using cached requests_oauthlib-1.3.1-py2.py3-none-any.whl (23 kB)\n",
      "Collecting pyasn1<0.5.0,>=0.4.6\n",
      "  Using cached pyasn1-0.4.8-py2.py3-none-any.whl (77 kB)\n",
      "Requirement already satisfied: certifi>=2017.4.17 in /opt/conda/lib/python3.8/site-packages (from requests<3,>=2.21.0->tensorboard) (2021.10.8)\n",
      "Requirement already satisfied: charset-normalizer~=2.0.0 in /opt/conda/lib/python3.8/site-packages (from requests<3,>=2.21.0->tensorboard) (2.0.12)\n",
      "Requirement already satisfied: idna<4,>=2.5 in /opt/conda/lib/python3.8/site-packages (from requests<3,>=2.21.0->tensorboard) (3.3)\n",
      "Requirement already satisfied: urllib3<1.27,>=1.21.1 in /opt/conda/lib/python3.8/site-packages (from requests<3,>=2.21.0->tensorboard) (1.26.9)\n",
      "Requirement already satisfied: oauthlib>=3.0.0 in /opt/conda/lib/python3.8/site-packages (from requests-oauthlib>=0.7.0->google-auth-oauthlib<0.5,>=0.4.1->tensorboard) (3.2.2)\n",
      "Requirement already satisfied: MarkupSafe>=2.1.1 in /opt/conda/lib/python3.8/site-packages (from werkzeug>=1.0.1->tensorboard) (2.1.1)\n",
      "Requirement already satisfied: cycler>=0.10 in /opt/conda/lib/python3.8/site-packages (from matplotlib->stable_baselines3) (0.11.0)\n",
      "Requirement already satisfied: fonttools>=4.22.0 in /opt/conda/lib/python3.8/site-packages (from matplotlib->stable_baselines3) (4.31.2)\n",
      "Requirement already satisfied: pillow>=6.2.0 in /opt/conda/lib/python3.8/site-packages (from matplotlib->stable_baselines3) (9.0.1)\n",
      "Requirement already satisfied: pyparsing>=2.2.1 in /opt/conda/lib/python3.8/site-packages (from matplotlib->stable_baselines3) (3.0.7)\n",
      "Requirement already satisfied: packaging>=20.0 in /opt/conda/lib/python3.8/site-packages (from matplotlib->stable_baselines3) (21.3)\n",
      "Requirement already satisfied: python-dateutil>=2.7 in /opt/conda/lib/python3.8/site-packages (from matplotlib->stable_baselines3) (2.8.2)\n",
      "Requirement already satisfied: kiwisolver>=1.0.1 in /opt/conda/lib/python3.8/site-packages (from matplotlib->stable_baselines3) (1.4.2)\n",
      "Requirement already satisfied: pytz>=2017.3 in /opt/conda/lib/python3.8/site-packages (from pandas->stable_baselines3) (2022.6)\n",
      "Installing collected packages: pyasn1, rsa, pyasn1-modules, cachetools, requests-oauthlib, importlib-metadata, google-auth, werkzeug, tensorboard-plugin-wit, tensorboard-data-server, markdown, gym, grpcio, google-auth-oauthlib, absl-py, tensorboard, stable-baselines3\n",
      "  Attempting uninstall: importlib-metadata\n",
      "    Found existing installation: importlib-metadata 5.0.0\n",
      "    Uninstalling importlib-metadata-5.0.0:\n",
      "      Successfully uninstalled importlib-metadata-5.0.0\n",
      "Successfully installed absl-py-1.3.0 cachetools-5.2.0 google-auth-2.15.0 google-auth-oauthlib-0.4.6 grpcio-1.51.1 gym-0.21.0 importlib-metadata-4.13.0 markdown-3.4.1 pyasn1-0.4.8 pyasn1-modules-0.2.8 requests-oauthlib-1.3.1 rsa-4.9 stable-baselines3-1.6.2 tensorboard-2.11.0 tensorboard-data-server-0.6.1 tensorboard-plugin-wit-1.8.1 werkzeug-2.2.2\n",
      "Requirement already satisfied: gym in /opt/conda/lib/python3.8/site-packages (0.21.0)\n",
      "Requirement already satisfied: qiskit_experiments in /opt/conda/lib/python3.8/site-packages (0.4.0)\n",
      "Requirement already satisfied: cloudpickle>=1.2.0 in /opt/conda/lib/python3.8/site-packages (from gym) (1.6.0)\n",
      "Requirement already satisfied: numpy>=1.18.0 in /opt/conda/lib/python3.8/site-packages (from gym) (1.22.4)\n",
      "Requirement already satisfied: scipy>=1.4 in /opt/conda/lib/python3.8/site-packages (from qiskit_experiments) (1.8.0)\n",
      "Requirement already satisfied: lmfit in /opt/conda/lib/python3.8/site-packages (from qiskit_experiments) (1.0.3)\n",
      "Requirement already satisfied: qiskit-ibmq-provider>=0.16.0 in /opt/conda/lib/python3.8/site-packages (from qiskit_experiments) (0.19.2)\n",
      "Requirement already satisfied: uncertainties in /opt/conda/lib/python3.8/site-packages (from qiskit_experiments) (3.1.6)\n",
      "Requirement already satisfied: qiskit-terra>=0.21.1 in /opt/conda/lib/python3.8/site-packages (from qiskit_experiments) (0.22.2)\n",
      "Requirement already satisfied: qiskit-ibm-experiment>=0.2.5 in /opt/conda/lib/python3.8/site-packages (from qiskit_experiments) (0.2.7)\n",
      "Requirement already satisfied: matplotlib>=3.4 in /opt/conda/lib/python3.8/site-packages (from qiskit_experiments) (3.5.1)\n",
      "Requirement already satisfied: packaging>=20.0 in /opt/conda/lib/python3.8/site-packages (from matplotlib>=3.4->qiskit_experiments) (21.3)\n",
      "Requirement already satisfied: pillow>=6.2.0 in /opt/conda/lib/python3.8/site-packages (from matplotlib>=3.4->qiskit_experiments) (9.0.1)\n",
      "Requirement already satisfied: pyparsing>=2.2.1 in /opt/conda/lib/python3.8/site-packages (from matplotlib>=3.4->qiskit_experiments) (3.0.7)\n",
      "Requirement already satisfied: kiwisolver>=1.0.1 in /opt/conda/lib/python3.8/site-packages (from matplotlib>=3.4->qiskit_experiments) (1.4.2)\n",
      "Requirement already satisfied: fonttools>=4.22.0 in /opt/conda/lib/python3.8/site-packages (from matplotlib>=3.4->qiskit_experiments) (4.31.2)\n",
      "Requirement already satisfied: cycler>=0.10 in /opt/conda/lib/python3.8/site-packages (from matplotlib>=3.4->qiskit_experiments) (0.11.0)\n",
      "Requirement already satisfied: python-dateutil>=2.7 in /opt/conda/lib/python3.8/site-packages (from matplotlib>=3.4->qiskit_experiments) (2.8.2)\n",
      "Requirement already satisfied: six>=1.5 in /opt/conda/lib/python3.8/site-packages (from python-dateutil>=2.7->matplotlib>=3.4->qiskit_experiments) (1.16.0)\n",
      "Requirement already satisfied: pandas>=1.3.0 in /opt/conda/lib/python3.8/site-packages (from qiskit-ibm-experiment>=0.2.5->qiskit_experiments) (1.3.5)\n",
      "Requirement already satisfied: urllib3>=1.21.1 in /opt/conda/lib/python3.8/site-packages (from qiskit-ibm-experiment>=0.2.5->qiskit_experiments) (1.26.9)\n",
      "Requirement already satisfied: requests>=2.19 in /opt/conda/lib/python3.8/site-packages (from qiskit-ibm-experiment>=0.2.5->qiskit_experiments) (2.27.1)\n",
      "Requirement already satisfied: requests-ntlm>=1.1.0 in /opt/conda/lib/python3.8/site-packages (from qiskit-ibm-experiment>=0.2.5->qiskit_experiments) (1.1.0)\n",
      "Requirement already satisfied: typing-extensions>=4.0.0 in /opt/conda/lib/python3.8/site-packages (from qiskit-ibm-experiment>=0.2.5->qiskit_experiments) (4.4.0)\n",
      "Requirement already satisfied: pytz>=2017.3 in /opt/conda/lib/python3.8/site-packages (from pandas>=1.3.0->qiskit-ibm-experiment>=0.2.5->qiskit_experiments) (2022.6)\n",
      "Requirement already satisfied: websocket-client>=1.0.1 in /opt/conda/lib/python3.8/site-packages (from qiskit-ibmq-provider>=0.16.0->qiskit_experiments) (1.3.2)\n",
      "Requirement already satisfied: websockets>=10.0 in /opt/conda/lib/python3.8/site-packages (from qiskit-ibmq-provider>=0.16.0->qiskit_experiments) (10.4)\n",
      "Requirement already satisfied: dill>=0.3 in /opt/conda/lib/python3.8/site-packages (from qiskit-terra>=0.21.1->qiskit_experiments) (0.3.4)\n",
      "Requirement already satisfied: stevedore>=3.0.0 in /opt/conda/lib/python3.8/site-packages (from qiskit-terra>=0.21.1->qiskit_experiments) (3.5.0)\n",
      "Requirement already satisfied: tweedledum<2.0,>=1.1 in /opt/conda/lib/python3.8/site-packages (from qiskit-terra>=0.21.1->qiskit_experiments) (1.1.1)\n",
      "Requirement already satisfied: sympy>=1.3 in /opt/conda/lib/python3.8/site-packages (from qiskit-terra>=0.21.1->qiskit_experiments) (1.10.1)\n",
      "Requirement already satisfied: ply>=3.10 in /opt/conda/lib/python3.8/site-packages (from qiskit-terra>=0.21.1->qiskit_experiments) (3.11)\n",
      "Requirement already satisfied: retworkx>=0.11.0 in /opt/conda/lib/python3.8/site-packages (from qiskit-terra>=0.21.1->qiskit_experiments) (0.11.0)\n",
      "Requirement already satisfied: psutil>=5 in /opt/conda/lib/python3.8/site-packages (from qiskit-terra>=0.21.1->qiskit_experiments) (5.9.0)\n",
      "Requirement already satisfied: symengine>=0.9 in /opt/conda/lib/python3.8/site-packages (from qiskit-terra>=0.21.1->qiskit_experiments) (0.9.2)\n",
      "Requirement already satisfied: certifi>=2017.4.17 in /opt/conda/lib/python3.8/site-packages (from requests>=2.19->qiskit-ibm-experiment>=0.2.5->qiskit_experiments) (2021.10.8)\n",
      "Requirement already satisfied: idna<4,>=2.5 in /opt/conda/lib/python3.8/site-packages (from requests>=2.19->qiskit-ibm-experiment>=0.2.5->qiskit_experiments) (3.3)\n",
      "Requirement already satisfied: charset-normalizer~=2.0.0 in /opt/conda/lib/python3.8/site-packages (from requests>=2.19->qiskit-ibm-experiment>=0.2.5->qiskit_experiments) (2.0.12)\n",
      "Requirement already satisfied: ntlm-auth>=1.0.2 in /opt/conda/lib/python3.8/site-packages (from requests-ntlm>=1.1.0->qiskit-ibm-experiment>=0.2.5->qiskit_experiments) (1.5.0)\n",
      "Requirement already satisfied: cryptography>=1.3 in /opt/conda/lib/python3.8/site-packages (from requests-ntlm>=1.1.0->qiskit-ibm-experiment>=0.2.5->qiskit_experiments) (36.0.2)\n",
      "Requirement already satisfied: cffi>=1.12 in /opt/conda/lib/python3.8/site-packages (from cryptography>=1.3->requests-ntlm>=1.1.0->qiskit-ibm-experiment>=0.2.5->qiskit_experiments) (1.15.0)\n",
      "Requirement already satisfied: pycparser in /opt/conda/lib/python3.8/site-packages (from cffi>=1.12->cryptography>=1.3->requests-ntlm>=1.1.0->qiskit-ibm-experiment>=0.2.5->qiskit_experiments) (2.21)\n",
      "Requirement already satisfied: pbr!=2.1.0,>=2.0.0 in /opt/conda/lib/python3.8/site-packages (from stevedore>=3.0.0->qiskit-terra>=0.21.1->qiskit_experiments) (5.8.1)\n",
      "Requirement already satisfied: mpmath>=0.19 in /opt/conda/lib/python3.8/site-packages (from sympy>=1.3->qiskit-terra>=0.21.1->qiskit_experiments) (1.2.1)\n",
      "Requirement already satisfied: asteval>=0.9.22 in /opt/conda/lib/python3.8/site-packages (from lmfit->qiskit_experiments) (0.9.28)\n",
      "Requirement already satisfied: future in /opt/conda/lib/python3.8/site-packages (from uncertainties->qiskit_experiments) (0.18.2)\n"
     ]
    }
   ],
   "source": [
    "%load_ext autoreload\n",
    "%autoreload 2\n",
    "\n",
    "import sys;\n",
    "sys.path.append(r'.') \n",
    "from heisenberg_model import HeisenbergModel; \n",
    "\n",
    "!pip install qiskit-ignis\n",
    "!pip install stable_baselines3 tensorboard\n",
    "!pip install gym qiskit_experiments\n",
    "\n",
    "from rl_environment import *"
   ]
  },
  {
   "cell_type": "code",
   "execution_count": 2,
   "id": "fb3b2e13-9651-49eb-9f8a-0012d3fb21ed",
   "metadata": {},
   "outputs": [],
   "source": [
    "import numpy as np\n",
    "\n",
    "from time import time\n",
    "\n",
    "import matplotlib.pyplot as plt\n",
    "plt.rcParams.update({\"font.size\": 16})  # enlarge matplotlib fonts"
   ]
  },
  {
   "cell_type": "code",
   "execution_count": 3,
   "id": "3565f61a-2fa8-4af8-83d9-5a8c8679ccf7",
   "metadata": {},
   "outputs": [],
   "source": [
    "#import retworkx as rx\n",
    "import rustworkx as rx\n",
    "\n",
    "from qiskit_nature.problems.second_quantization.lattice import Lattice\n",
    "\n",
    "# Custom Heisenberg couplings\n",
    "from heisenberg_model import HeisenbergModel"
   ]
  },
  {
   "cell_type": "code",
   "execution_count": 4,
   "id": "5839d6d3-ee8a-4d01-9af4-e654ae915778",
   "metadata": {},
   "outputs": [
    {
     "data": {
      "image/png": "[encoded data removed]",
      "text/plain": [
       "<Figure size 432x288 with 1 Axes>"
      ]
     },
     "metadata": {},
     "output_type": "display_data"
    }
   ],
   "source": [
    "# Kagome unit cell\n",
    "num_sites = 12\n",
    "# Edge weight\n",
    "t = 1.0\n",
    "\n",
    "# Generate graph of kagome unit cell\n",
    "# Start by defining all the edges\n",
    "graph = rx.PyGraph(multigraph=False)\n",
    "graph.add_nodes_from(range(num_sites))\n",
    "edge_list = [\n",
    "    (0, 1, t),\n",
    "    (1, 2, t),\n",
    "    (2, 3, t),\n",
    "    (3, 4, t),\n",
    "    (4, 5, t),\n",
    "    (5, 0, t),\n",
    "    (0, 6, t),\n",
    "    (1, 6, t),\n",
    "    (1, 7, t),\n",
    "    (2, 7, t),\n",
    "    (2, 8, t),\n",
    "    (3, 8, t),\n",
    "    (3, 9, t),\n",
    "    (4, 9, t),\n",
    "    (4, 10, t),\n",
    "    (5, 10, t),\n",
    "    (5, 11, t),\n",
    "    (0, 11, t),\n",
    "]\n",
    "# Generate graph from the list of edges\n",
    "graph.add_edges_from(edge_list)\n",
    "\n",
    "# Make a Lattice from graph\n",
    "kagome_unit_cell = Lattice(graph)\n",
    "\n",
    "# Draw Lattice\n",
    "kagome_unit_cell.draw(style={'node_color':'purple'})\n",
    "# plt.savefig('kagome_unit_cell.png')\n",
    "plt.show()"
   ]
  },
  {
   "cell_type": "markdown",
   "id": "77e7a794-04c3-48f7-aa62-1f020c241282",
   "metadata": {},
   "source": [
    "Now that we have the lattice geometry, we can place each term in the Hamiltonian on its corresponding edge. This is done by using the custom `HeisenbergModel` found in the heisenberg_model.py file. This model is based on Qiskit Nature's [`IsingModel` class](https://qiskit.org/documentation/nature/stubs/qiskit_nature.problems.second_quantization.lattice.IsingModel.html) . It places $XX + YY + ZZ$ on each edge of the lattice (per the Hamiltonian's definition).\n",
    "\n",
    "We will also need to specify how the spin-1/2 particles map to qubits. Using Qiskit nature's `LogarithmicMapper`, we can map each spin-1/2 site to a single qubit. For more information on Qiskit nature's spin mappings see [here]( https://qiskit.org/documentation/nature/stubs/qiskit_nature.mappers.second_quantization.SpinMapper.html#qiskit_nature.mappers.second_quantization.SpinMapper)."
   ]
  },
  {
   "cell_type": "code",
   "execution_count": 5,
   "id": "b63edd90-b02d-4c6b-8d9d-3692e05feec4",
   "metadata": {},
   "outputs": [],
   "source": [
    "from qiskit_nature.mappers.second_quantization import LogarithmicMapper"
   ]
  },
  {
   "cell_type": "code",
   "execution_count": 6,
   "id": "2d0f1fa1-ad52-4c82-bc10-b971b227b8ec",
   "metadata": {},
   "outputs": [
    {
     "name": "stdout",
     "output_type": "stream",
     "text": [
      "The history saving thread hit an unexpected error (OperationalError('attempt to write a readonly database')).History will not be written to the database.\n"
     ]
    },
    {
     "data": {
      "text/plain": [
       "PauliSumOp(SparsePauliOp(['ZIIIIIZIIIII', 'IZIIIIZIIIII', 'IZIIIIIZIIII', 'IIZIIIIZIIII', 'IIIIIIZZIIII', 'IIZIIIIIZIII', 'IIIZIIIIZIII', 'IIIIIIIZZIII', 'IIIZIIIIIZII', 'IIIIZIIIIZII', 'IIIIIIIIZZII', 'IIIIZIIIIIZI', 'IIIIIZIIIIZI', 'IIIIIIIIIZZI', 'ZIIIIIIIIIIZ', 'IIIIIZIIIIIZ', 'IIIIIIZIIIIZ', 'IIIIIIIIIIZZ', 'YIIIIIYIIIII', 'IYIIIIYIIIII', 'IYIIIIIYIIII', 'IIYIIIIYIIII', 'IIIIIIYYIIII', 'IIYIIIIIYIII', 'IIIYIIIIYIII', 'IIIIIIIYYIII', 'IIIYIIIIIYII', 'IIIIYIIIIYII', 'IIIIIIIIYYII', 'IIIIYIIIIIYI', 'IIIIIYIIIIYI', 'IIIIIIIIIYYI', 'YIIIIIIIIIIY', 'IIIIIYIIIIIY', 'IIIIIIYIIIIY', 'IIIIIIIIIIYY', 'XIIIIIXIIIII', 'IXIIIIXIIIII', 'IXIIIIIXIIII', 'IIXIIIIXIIII', 'IIIIIIXXIIII', 'IIXIIIIIXIII', 'IIIXIIIIXIII', 'IIIIIIIXXIII', 'IIIXIIIIIXII', 'IIIIXIIIIXII', 'IIIIIIIIXXII', 'IIIIXIIIIIXI', 'IIIIIXIIIIXI', 'IIIIIIIIIXXI', 'XIIIIIIIIIIX', 'IIIIIXIIIIIX', 'IIIIIIXIIIIX', 'IIIIIIIIIIXX'],\n",
       "              coeffs=[1.+0.j, 1.+0.j, 1.+0.j, 1.+0.j, 1.+0.j, 1.+0.j, 1.+0.j, 1.+0.j, 1.+0.j,\n",
       " 1.+0.j, 1.+0.j, 1.+0.j, 1.+0.j, 1.+0.j, 1.+0.j, 1.+0.j, 1.+0.j, 1.+0.j,\n",
       " 1.+0.j, 1.+0.j, 1.+0.j, 1.+0.j, 1.+0.j, 1.+0.j, 1.+0.j, 1.+0.j, 1.+0.j,\n",
       " 1.+0.j, 1.+0.j, 1.+0.j, 1.+0.j, 1.+0.j, 1.+0.j, 1.+0.j, 1.+0.j, 1.+0.j,\n",
       " 1.+0.j, 1.+0.j, 1.+0.j, 1.+0.j, 1.+0.j, 1.+0.j, 1.+0.j, 1.+0.j, 1.+0.j,\n",
       " 1.+0.j, 1.+0.j, 1.+0.j, 1.+0.j, 1.+0.j, 1.+0.j, 1.+0.j, 1.+0.j, 1.+0.j]), coeff=1)"
      ]
     },
     "execution_count": 6,
     "metadata": {},
     "output_type": "execute_result"
    }
   ],
   "source": [
    "# Build Hamiltonian from graph edges\n",
    "heis = HeisenbergModel.uniform_parameters(\n",
    "    lattice=kagome_unit_cell,\n",
    "    uniform_interaction=1.0,  # same spin-spin interaction weight as used in graph\n",
    "    uniform_onsite_potential=0.0,  # No singe site external field\n",
    ")\n",
    "\n",
    "# The Lattice needs an explicit mapping to the qubit states.\n",
    "# We map 1 qubit for 1 spin-1/2 particle using the LogarithmicMapper\n",
    "log_mapper = LogarithmicMapper()\n",
    "# Multiply by factor of 4 to account for (1/2)^2 terms from spin operators in the HeisenbergModel\n",
    "ham = 4 * log_mapper.map(heis.second_q_ops().simplify())\n",
    "# Print Hamiltonian to check it's what we expect.\n",
    "# There are 18 edges and 3 terms per edge (XX, YY, and ZZ),\n",
    "# so there should be 54 equally weighted terms.\n",
    "ham"
   ]
  },
  {
   "cell_type": "markdown",
   "id": "e7c2fe6a-98c3-413d-8ee5-ab635184da80",
   "metadata": {},
   "source": [
    "### Compute ground state energy\n",
    "With the Hamiltonian in hand, we can now calculate the expected ground state and its energy. Qiskit offers different methods to do this. The method [here](https://qiskit.org/documentation/apidoc/algorithms.html#minimum-eigensolvers) computes the ground state energy. This [method](https://qiskit.org/documentation/apidoc/algorithms.html#eigensolvers) computes the ground state ($k=0$) and potentially higher energy states if the users wishes ($k>0$).\n",
    "\n",
    "Below is an example calculation of finding the lowest 3 energies ($k=3$) of the system using the second method. Remember that for this year's Prize, you will only need to use VQE to find the ground state energy and not any excited state energies."
   ]
  },
  {
   "cell_type": "code",
   "execution_count": 7,
   "id": "f7bf1d65-0883-4180-985c-bfa88b47e334",
   "metadata": {},
   "outputs": [
    {
     "name": "stdout",
     "output_type": "stream",
     "text": [
      "[-18.         -18.         -16.96132284]\n"
     ]
    }
   ],
   "source": [
    "from qiskit.algorithms import NumPyEigensolver\n",
    "\n",
    "# find the first three (k=3) eigenvalues\n",
    "exact_solver = NumPyEigensolver(k=3)\n",
    "exact_result = exact_solver.compute_eigenvalues(ham)\n",
    "print(exact_result.eigenvalues)\n",
    "\n",
    "# Save ground state energy for later\n",
    "gs_energy = np.round(exact_result.eigenvalues[0], 4)"
   ]
  },
  {
   "cell_type": "markdown",
   "id": "5148f389-84b9-4608-bde5-d1151e45fdec",
   "metadata": {},
   "source": [
    "You'll note that -18 is found twice. This means there are actually two ground states for this system. The -16.96 energy is the first excited state, which is not part of this year's challenge. **For this year's Prize, we will only be judging based off the measured ground state energy. This means it does not matter which of the two ground states, or combination of them, your VQE implementation finds.**"
   ]
  },
  {
   "cell_type": "code",
   "execution_count": 8,
   "id": "45fc1701-e9b9-4c83-b326-7d897cfd68d7",
   "metadata": {},
   "outputs": [],
   "source": [
    "from qiskit import QuantumCircuit, transpile\n",
    "from qiskit.circuit import Parameter\n",
    "\n",
    "from qiskit import IBMQ"
   ]
  },
  {
   "cell_type": "code",
   "execution_count": 9,
   "id": "1a7a6967-4aee-4ece-a521-34cab047ca75",
   "metadata": {},
   "outputs": [],
   "source": [
    "# Doc for loading IBMQ account https://quantum-computing.ibm.com/lab/docs/iql/manage/account/ibmq#the-account\n",
    "# IBMQ.save_account(TOKEN)\n",
    "provider = IBMQ.load_account()\n",
    "#provider = IBMQ.get_provider(hub='ibm-q-internal', group='deployed', project='default')\n",
    "\n",
    "# Real backend; needed for transpilation later on\n",
    "#guadalupe = provider.get_backend(\"ibmq_guadalupe\")\n",
    "\n",
    "# Get fake backend if you like\n",
    "from qiskit.providers.fake_provider import FakeGuadalupe\n",
    "\n",
    "# Noisy simulator backend\n",
    "noisy_sim = FakeGuadalupe()\n",
    "guadalupe = noisy_sim"
   ]
  },
  {
   "cell_type": "code",
   "execution_count": 10,
   "id": "2fcc5e45-3b35-43a1-8b43-e9bf07312cd6",
   "metadata": {},
   "outputs": [
    {
     "data": {
      "image/png": "[encoded data removed]",
      "text/plain": [
       "<Figure size 432x288 with 1 Axes>"
      ]
     },
     "metadata": {},
     "output_type": "display_data"
    },
    {
     "name": "stdout",
     "output_type": "stream",
     "text": [
      "[-18.         -18.         -16.96132284]\n"
     ]
    }
   ],
   "source": [
    "# Kagome unit cell\n",
    "num_sites = 12\n",
    "# Edge weight\n",
    "t = 1.0\n",
    "\n",
    "# Generate graph of kagome unit cell\n",
    "# Start by defining all the edges\n",
    "graph = rx.PyGraph(multigraph=False)\n",
    "graph.add_nodes_from(range(num_sites))\n",
    "edge_list = [\n",
    "    (0, 1, t),\n",
    "    (1, 2, t),\n",
    "    (2, 3, t),\n",
    "    (3, 4, t),\n",
    "    (4, 5, t),\n",
    "    (5, 0, t),\n",
    "    (0, 6, t),\n",
    "    (1, 6, t),\n",
    "    (1, 7, t),\n",
    "    (2, 7, t),\n",
    "    (2, 8, t),\n",
    "    (3, 8, t),\n",
    "    (3, 9, t),\n",
    "    (4, 9, t),\n",
    "    (4, 10, t),\n",
    "    (5, 10, t),\n",
    "    (5, 11, t),\n",
    "    (0, 11, t),\n",
    "]\n",
    "# Generate graph from the list of edges\n",
    "graph.add_edges_from(edge_list)\n",
    "\n",
    "# Make a Lattice from graph\n",
    "kagome_unit_cell = Lattice(graph)\n",
    "\n",
    "# Draw Lattice\n",
    "kagome_unit_cell.draw(style={'node_color':'purple'})\n",
    "# plt.savefig('kagome_unit_cell.png')\n",
    "plt.show()\n",
    "\n",
    "from qiskit_nature.mappers.second_quantization import LogarithmicMapper\n",
    "# Build Hamiltonian from graph edges\n",
    "heis = HeisenbergModel.uniform_parameters(\n",
    "    lattice=kagome_unit_cell,\n",
    "    uniform_interaction=1.0,  # same spin-spin interaction weight as used in graph\n",
    "    uniform_onsite_potential=0.0,  # No singe site external field\n",
    ")\n",
    "\n",
    "# The Lattice needs an explicit mapping to the qubit states.\n",
    "# We map 1 qubit for 1 spin-1/2 particle using the LogarithmicMapper\n",
    "log_mapper = LogarithmicMapper()\n",
    "# Multiply by factor of 4 to account for (1/2)^2 terms from spin operators in the HeisenbergModel\n",
    "ham = 4 * log_mapper.map(heis.second_q_ops().simplify())\n",
    "# Print Hamiltonian to check it's what we expect.\n",
    "# There are 18 edges and 3 terms per edge (XX, YY, and ZZ),\n",
    "# so there should be 54 equally weighted terms.\n",
    "ham\n",
    "\n",
    "from qiskit.algorithms import NumPyEigensolver\n",
    "\n",
    "# find the first three (k=3) eigenvalues\n",
    "exact_solver = NumPyEigensolver(k=3)\n",
    "exact_result = exact_solver.compute_eigenvalues(ham)\n",
    "print(exact_result.eigenvalues)\n",
    "\n",
    "# Save ground state energy for later\n",
    "gs_energy = np.round(exact_result.eigenvalues[0], 4)"
   ]
  },
  {
   "cell_type": "code",
   "execution_count": 11,
   "id": "22017474-5890-44cd-821c-22ca1b143d6b",
   "metadata": {},
   "outputs": [
    {
     "data": {
      "image/png": "[encoded data removed]",
      "text/plain": [
       "<Figure size 432x288 with 1 Axes>"
      ]
     },
     "metadata": {},
     "output_type": "display_data"
    }
   ],
   "source": [
    "# Kagome unit cell\n",
    "num_qubits = 16\n",
    "# Edge weight\n",
    "t = 1.0\n",
    "\n",
    "# Generate graph of kagome unit cell\n",
    "# Start by defining all the edges\n",
    "graph_16 = rx.PyGraph(multigraph=False)\n",
    "graph_16.add_nodes_from(range(num_qubits))\n",
    "edge_list = [\n",
    "    (1, 2, t),\n",
    "    (2, 3, t),\n",
    "    (3, 5, t),\n",
    "    (5, 8, t),\n",
    "    (8, 11, t),\n",
    "    (11, 14, t),\n",
    "    (14, 13, t),\n",
    "    (13, 12, t),\n",
    "    (12, 10, t),\n",
    "    (10, 7, t),\n",
    "    (7, 4, t),\n",
    "    (4, 1, t),\n",
    "    (4, 2, t),\n",
    "    (2, 5, t),\n",
    "    (5, 11, t),\n",
    "    (11, 13, t),\n",
    "    (13, 10, t),\n",
    "    (10, 4, t),\n",
    "]\n",
    "# Generate graph from the list of edges\n",
    "graph_16.add_edges_from(edge_list)\n",
    "\n",
    "# Make a Lattice from graph\n",
    "kagome_unit_cell_16 = Lattice(graph_16)\n",
    "\n",
    "# Draw Lattice and include labels to check we exclude the right spins\n",
    "# Specify node locations for better visualizations\n",
    "kagome_pos = {0:[1,-1], 6:[1.5,-1], 9:[2,-1], 15:[2.5,-1], \n",
    "              1:[0,-0.8], 2:[-0.6,1], 4:[0.6,1], 10:[1.2,3], \n",
    "              13:[0.6,5], 11:[-0.6,5], 5:[-1.2,3], 3:[-1.8,0.9], \n",
    "              8:[-1.8,5.1], 14:[0,6.8], 7:[1.8,0.9], 12:[1.8,5.1]}\n",
    "kagome_unit_cell_16.draw(style={'with_labels':True, 'font_color':'white', 'node_color':'purple', 'pos':kagome_pos})\n",
    "plt.show()"
   ]
  },
  {
   "cell_type": "code",
   "execution_count": 12,
   "id": "a44d6279-a630-4e15-859c-a68dfbee6550",
   "metadata": {},
   "outputs": [
    {
     "data": {
      "text/plain": [
       "PauliSumOp(SparsePauliOp(['IZZIIIIIIIIIIIII', 'IIZZIIIIIIIIIIII', 'IZIIZIIIIIIIIIII', 'IIZIZIIIIIIIIIII', 'IIZIIZIIIIIIIIII', 'IIIZIZIIIIIIIIII', 'IIIIZIIZIIIIIIII', 'IIIIIZIIZIIIIIII', 'IIIIZIIIIIZIIIII', 'IIIIIIIZIIZIIIII', 'IIIIIZIIIIIZIIII', 'IIIIIIIIZIIZIIII', 'IIIIIIIIIIZIZIII', 'IIIIIIIIIIZIIZII', 'IIIIIIIIIIIZIZII', 'IIIIIIIIIIIIZZII', 'IIIIIIIIIIIZIIZI', 'IIIIIIIIIIIIIZZI', 'IYYIIIIIIIIIIIII', 'IIYYIIIIIIIIIIII', 'IYIIYIIIIIIIIIII', 'IIYIYIIIIIIIIIII', 'IIYIIYIIIIIIIIII', 'IIIYIYIIIIIIIIII', 'IIIIYIIYIIIIIIII', 'IIIIIYIIYIIIIIII', 'IIIIYIIIIIYIIIII', 'IIIIIIIYIIYIIIII', 'IIIIIYIIIIIYIIII', 'IIIIIIIIYIIYIIII', 'IIIIIIIIIIYIYIII', 'IIIIIIIIIIYIIYII', 'IIIIIIIIIIIYIYII', 'IIIIIIIIIIIIYYII', 'IIIIIIIIIIIYIIYI', 'IIIIIIIIIIIIIYYI', 'IXXIIIIIIIIIIIII', 'IIXXIIIIIIIIIIII', 'IXIIXIIIIIIIIIII', 'IIXIXIIIIIIIIIII', 'IIXIIXIIIIIIIIII', 'IIIXIXIIIIIIIIII', 'IIIIXIIXIIIIIIII', 'IIIIIXIIXIIIIIII', 'IIIIXIIIIIXIIIII', 'IIIIIIIXIIXIIIII', 'IIIIIXIIIIIXIIII', 'IIIIIIIIXIIXIIII', 'IIIIIIIIIIXIXIII', 'IIIIIIIIIIXIIXII', 'IIIIIIIIIIIXIXII', 'IIIIIIIIIIIIXXII', 'IIIIIIIIIIIXIIXI', 'IIIIIIIIIIIIIXXI'],\n",
       "              coeffs=[1.+0.j, 1.+0.j, 1.+0.j, 1.+0.j, 1.+0.j, 1.+0.j, 1.+0.j, 1.+0.j, 1.+0.j,\n",
       " 1.+0.j, 1.+0.j, 1.+0.j, 1.+0.j, 1.+0.j, 1.+0.j, 1.+0.j, 1.+0.j, 1.+0.j,\n",
       " 1.+0.j, 1.+0.j, 1.+0.j, 1.+0.j, 1.+0.j, 1.+0.j, 1.+0.j, 1.+0.j, 1.+0.j,\n",
       " 1.+0.j, 1.+0.j, 1.+0.j, 1.+0.j, 1.+0.j, 1.+0.j, 1.+0.j, 1.+0.j, 1.+0.j,\n",
       " 1.+0.j, 1.+0.j, 1.+0.j, 1.+0.j, 1.+0.j, 1.+0.j, 1.+0.j, 1.+0.j, 1.+0.j,\n",
       " 1.+0.j, 1.+0.j, 1.+0.j, 1.+0.j, 1.+0.j, 1.+0.j, 1.+0.j, 1.+0.j, 1.+0.j]), coeff=1)"
      ]
     },
     "execution_count": 12,
     "metadata": {},
     "output_type": "execute_result"
    }
   ],
   "source": [
    "# Build Hamiltonian from graph edges\n",
    "heis_16 = HeisenbergModel.uniform_parameters(\n",
    "    lattice=kagome_unit_cell_16,\n",
    "    uniform_interaction=t,\n",
    "    uniform_onsite_potential=0.0,  # No singe site external field\n",
    ")\n",
    "\n",
    "# Map from SpinOp to qubits just as before.\n",
    "log_mapper = LogarithmicMapper()\n",
    "ham_16 = 4 * log_mapper.map(heis_16.second_q_ops().simplify())\n",
    "# Print Hamiltonian to check it's what we expect:\n",
    "# 18 ZZ, 18 YY, and 18 XX terms over 16 qubits instead of over 12 qubits\n",
    "ham_16"
   ]
  },
  {
   "cell_type": "code",
   "execution_count": 13,
   "id": "366f3c05-aead-4ceb-9244-cb7411b27ab9",
   "metadata": {},
   "outputs": [
    {
     "name": "stdout",
     "output_type": "stream",
     "text": [
      "16\n"
     ]
    },
    {
     "data": {
      "text/plain": [
       "(qiskit.providers.fake_provider.backends.guadalupe.fake_guadalupe.FakeGuadalupe,\n",
       " qiskit.providers.fake_provider.fake_pulse_backend.FakePulseBackend,\n",
       " qiskit.providers.fake_provider.fake_qasm_backend.FakeQasmBackend,\n",
       " qiskit.providers.fake_provider.fake_backend.FakeBackend,\n",
       " qiskit.providers.backend.BackendV1,\n",
       " qiskit.providers.backend.Backend,\n",
       " abc.ABC,\n",
       " object)"
      ]
     },
     "execution_count": 13,
     "metadata": {},
     "output_type": "execute_result"
    }
   ],
   "source": [
    "print(int(np.log2(len( ham_16.to_matrix() ))) )\n",
    "guadalupe.__class__.__bases__\n",
    "guadalupe.__class__.__mro__"
   ]
  },
  {
   "cell_type": "markdown",
   "id": "f94f6997-44ab-43c8-ac8f-a2d58c555a22",
   "metadata": {},
   "source": [
    "## 2-3 Define an ansatz\n",
    "Crafting the ansatz is critical to VQE. You may use a prebuilt ansatz from the [qiskit circuit library](https://qiskit.org/documentation/apidoc/circuit_library.html#n-local-circuits). You may also make your own custom ansatz. Keep in mind that a custom ansatz should have no measurement gates at the end and the circuit parameters are defined by using `Parameter()` [objects](https://qiskit.org/documentation/stubs/qiskit.circuit.Parameter.html). We've demonstrated both options below. The ansatz can be defined over 12 qubits without needed to inflate it to 16 qubits at this point. The transpiler will take care of that later on.\n",
    "\n",
    "Here's an example using `EfficientSU2()` to generate an ansatz"
   ]
  },
  {
   "cell_type": "code",
   "execution_count": 14,
   "id": "ba06d089-0c43-4d24-b577-321a840dda9d",
   "metadata": {},
   "outputs": [],
   "source": [
    "ansatz_opt = QuantumCircuit(16)\n",
    "\n",
    "from qiskit.algorithms.optimizers import SPSA\n",
    "\n",
    "optimizer = SPSA(maxiter=75)\n",
    "\n",
    "from qiskit.algorithms import MinimumEigensolver, VQEResult\n",
    "\n",
    "# Define a custome VQE class to orchestra the ansatz, classical optimizers, \n",
    "# initial point, callback, and final result\n",
    "class CustomVQE(MinimumEigensolver):\n",
    "    \n",
    "    def __init__(self, estimator, circuit, optimizer, callback=None):\n",
    "        self._estimator = estimator\n",
    "        self._circuit = circuit\n",
    "        self._optimizer = optimizer\n",
    "        self._callback = callback\n",
    "        \n",
    "    def compute_minimum_eigenvalue(self, operators, aux_operators=None):\n",
    "                \n",
    "        # Define objective function to classically minimize over\n",
    "        def objective(x):\n",
    "            # Execute job with estimator primitive\n",
    "            job = self._estimator.run([self._circuit], [operators], [x])\n",
    "            # Get results from jobs\n",
    "            est_result = job.result()\n",
    "            # Get the measured energy value\n",
    "            value = est_result.values[0]\n",
    "            # Save result information using callback function\n",
    "            if self._callback is not None:\n",
    "                self._callback(value)\n",
    "            return value\n",
    "            \n",
    "        # Select an initial point for the ansatzs' parameters\n",
    "        x0 = np.pi/4 * np.random.rand(self._circuit.num_parameters)\n",
    "        \n",
    "        # Run optimization\n",
    "        res = self._optimizer.minimize(objective, x0=x0)\n",
    "        \n",
    "        # Populate VQE result\n",
    "        result = VQEResult()\n",
    "        result.cost_function_evals = res.nfev\n",
    "        result.eigenvalue = res.fun\n",
    "        result.optimal_parameters = res.x\n",
    "        return result\n",
    "\n",
    "# Define a simple callback function\n",
    "intermediate_info = []\n",
    "def callback(value):\n",
    "        intermediate_info.append(value)\n",
    "\n",
    "from qiskit.primitives import Estimator\n",
    "# Define instance of qiskit-terra's Estimator primitive\n",
    "estimator = Estimator([ansatz_opt], [ham_16])\n",
    "\n",
    "# Setup VQE algorithm\n",
    "custom_vqe = CustomVQE(estimator, ansatz_opt, optimizer, callback=callback)\n"
   ]
  },
  {
   "cell_type": "code",
   "execution_count": null,
   "id": "3e6a4b1a-6b3c-4f57-bc67-edb2e3b31aff",
   "metadata": {},
   "outputs": [
    {
     "name": "stdout",
     "output_type": "stream",
     "text": [
      "init simulator statevector_simulator\n",
      "DONE\n"
     ]
    },
    {
     "name": "stderr",
     "output_type": "stream",
     "text": [
      "/opt/conda/lib/python3.8/site-packages/qiskit/algorithms/optimizers/spsa.py:345: RuntimeWarning: divide by zero encountered in double_scalars\n",
      "  a = target_magnitude / avg_magnitudes\n"
     ]
    },
    {
     "name": "stdout",
     "output_type": "stream",
     "text": [
      "1.902\n"
     ]
    },
    {
     "data": {
      "image/png": "[encoded data removed]",
      "text/plain": [
       "<Figure size 460.778x746.48 with 1 Axes>"
      ]
     },
     "metadata": {},
     "output_type": "display_data"
    },
    {
     "name": "stdout",
     "output_type": "stream",
     "text": [
      "observation: [2.05000000e-16 1.48000000e-16 7.07106781e-01 2.11000000e-16\n",
      " 8.50000000e-17 7.07106781e-01 0.00000000e+00 0.00000000e+00\n",
      " 1.00000000e+00 0.00000000e+00 0.00000000e+00 1.00000000e+00\n",
      " 0.00000000e+00 0.00000000e+00 1.00000000e+00 0.00000000e+00\n",
      " 0.00000000e+00 1.00000000e+00 0.00000000e+00 0.00000000e+00\n",
      " 1.00000000e+00 0.00000000e+00 0.00000000e+00 1.00000000e+00\n",
      " 0.00000000e+00 0.00000000e+00 1.00000000e+00 0.00000000e+00\n",
      " 0.00000000e+00 1.00000000e+00 0.00000000e+00 0.00000000e+00\n",
      " 1.00000000e+00 0.00000000e+00 0.00000000e+00 1.00000000e+00]  fidelity: 1.9023689270621829  > fid treshold: 0.0001  reward: -0.01  gates: 1  action: 1\n",
      "generated, best_fidelity \n",
      "       ┌───┐┌─────────┐                     ┌──────────┐\n",
      " q_0: ┤ I ├┤ Rx(π/2) ├──■───────────────■──┤ Rx(-π/2) ├\n",
      "      ├───┤├─────────┤┌─┴─┐┌─────────┐┌─┴─┐├──────────┤\n",
      " q_1: ┤ I ├┤ Rx(π/2) ├┤ X ├┤ Rz(π/4) ├┤ X ├┤ Rx(-π/2) ├\n",
      "      ├───┤└─────────┘└───┘└─────────┘└───┘└──────────┘\n",
      " q_2: ┤ I ├────────────────────────────────────────────\n",
      "      ├───┤                                            \n",
      " q_3: ┤ I ├────────────────────────────────────────────\n",
      "      ├───┤                                            \n",
      " q_4: ┤ I ├────────────────────────────────────────────\n",
      "      ├───┤                                            \n",
      " q_5: ┤ I ├────────────────────────────────────────────\n",
      "      ├───┤                                            \n",
      " q_6: ┤ I ├────────────────────────────────────────────\n",
      "      ├───┤                                            \n",
      " q_7: ┤ I ├────────────────────────────────────────────\n",
      "      ├───┤                                            \n",
      " q_8: ┤ I ├────────────────────────────────────────────\n",
      "      ├───┤                                            \n",
      " q_9: ┤ I ├────────────────────────────────────────────\n",
      "      ├───┤                                            \n",
      "q_10: ┤ I ├────────────────────────────────────────────\n",
      "      ├───┤                                            \n",
      "q_11: ┤ I ├────────────────────────────────────────────\n",
      "      └───┘                                             1.9023689270621829\n"
     ]
    },
    {
     "data": {
      "image/png": "[encoded data removed]",
      "text/plain": [
       "<Figure size 219.978x746.48 with 1 Axes>"
      ]
     },
     "metadata": {},
     "output_type": "display_data"
    },
    {
     "name": "stdout",
     "output_type": "stream",
     "text": [
      "Job Status: job is actively running"
     ]
    }
   ],
   "source": [
    "from dataclasses import dataclass\n",
    "\n",
    "@dataclass\n",
    "class ProblemConfig:\n",
    "    model_name = \"osp22_lattice\"\n",
    "    target_matrix = ham # ham_16\n",
    "    target_energy = gs_energy\n",
    "    #target_matrix = ham_16.to_matrix()\n",
    "    #target_matrix = (One^One^Zero).to_matrix()\n",
    "    profile = \"TROTTER\"\n",
    "    train_method = \"LOAD\"\n",
    "    train_cycle_max = 20\n",
    "    problem_size = 12\n",
    "\n",
    "'''    \n",
    "    model_name = \"osp22_lattice\"\n",
    "    train_method = \"LOAD\"\n",
    "    train_cycle_max = 2\n",
    "    profile = \"TROTTER\"\n",
    "    problem = {\n",
    "        \"target_matrix\": ham_16\n",
    "        \"profile\": \"TROTTER\"\n",
    "    }\n",
    "\n",
    "model_name = \"dqn_lab4quantum_test\"\n",
    "target_matrix = ham_16.to_matrix()\n",
    "# profiles TROTTER, GATES, ALL\n",
    "profile = \"TROTTER\"\n",
    "# method TRAIN, LOAD, TEST\n",
    "train_method = \"LOAD\"\n",
    "# Maximum train cycle\n",
    "train_cycle_max = 2\n",
    "problem_size = 12\n",
    "'''\n",
    "backend = Aer.get_backend('statevector_simulator')\n",
    "#backend = guadalupe\n",
    "ansatz_custom = runRLOptimizedCircuit(ProblemConfig.model_name, ProblemConfig.train_method, ProblemConfig.target_matrix, ProblemConfig.target_energy, ProblemConfig.profile, ProblemConfig.train_cycle_max, ProblemConfig.problem_size, backend, estimator, custom_vqe )\n",
    "\n",
    "ansatz_custom.draw()\n"
   ]
  },
  {
   "cell_type": "markdown",
   "id": "bc27992c-3d55-47d1-a767-208bbf0334fe",
   "metadata": {},
   "source": [
    "### Match qubit layout\n",
    "The ansatz is currently defined over 12 qubits, but it will be executed on guadalupe which has 16 qubits. To make the ansatz compatible with guadalupe and the inflated Hamiltonian, we can specify the qubit layout on the real device using the transpiler (shown below). We exclude the four qubits with fewest neighbors."
   ]
  },
  {
   "cell_type": "code",
   "execution_count": null,
   "id": "66c92338-eaaa-49ca-b369-baa0130583f1",
   "metadata": {},
   "outputs": [],
   "source": [
    "# Force anstaz to be applied to qubits in the heavy hex.\n",
    "# Avoid the outer qubits 0, 6, 9, and 15 which we accounted for in the lattice definition.\n",
    "q_layout = [1, 2, 3, 5, 8, 11, 14, 13, 12, 10, 7, 4]\n",
    "ansatz_opt = transpile(ansatz_custom, backend=guadalupe, initial_layout=q_layout)\n",
    "\n",
    "print('number and type of gates in the cirucit:', ansatz_opt.count_ops())\n",
    "print('number of parameters in the circuit:', ansatz_opt.num_parameters)\n",
    "ansatz_opt.draw(fold=300)"
   ]
  },
  {
   "cell_type": "markdown",
   "id": "5409199f-031b-4b4d-bba5-ac30b97cae60",
   "metadata": {},
   "source": [
    "## 2-4 Choose a classical optimizer\n",
    "Select a [classical optimizer](https://qiskit.org/documentation/stubs/qiskit.algorithms.optimizers.html#local-optimizers). The classical optimizer will encounter errored and stochastic results from the quantum computer due to gate errors, measurement errors, and other noise sources as well as finite sampling affects [8]. Choose a classical optimizer that pairs well with your approach to VQE. Along with choosing a classical optimizer, picking an initial set of parameters plays a significant role in VQE. In this example, a random set of values is picked (shown in the `CustomVQE` class section 2-5).\n",
    "\n",
    "\\[8\\] \"Using models to improve optimizers for variational quantum algorithms\" K. Sung, et al. [arXiv:2005.11011v2](https://arxiv.org/abs/2005.11011v2) [quant-ph] (2020)"
   ]
  },
  {
   "cell_type": "code",
   "execution_count": null,
   "id": "4dfc540b-1a31-4481-b37c-90e840ca6e19",
   "metadata": {},
   "outputs": [],
   "source": [
    "from qiskit.algorithms.optimizers import SPSA\n",
    "\n",
    "optimizer = SPSA(maxiter=75)"
   ]
  },
  {
   "cell_type": "markdown",
   "id": "dbbe9fdd-f6cf-472a-8955-5356919c8c98",
   "metadata": {},
   "source": [
    "## 2-5 Define custom VQE program\n",
    "The VQE calculation can be efficiently orchestrated between the quantum and classical computer using qiskit's [primitives](https://qiskit.org/documentation/apidoc/primitives.html). Below is a simple example of using the [Estimator primitive](https://qiskit.org/documentation/apidoc/primitives.html#overview-of-estimator) with your computer as a local simulator of a quantum computer. It's convenient to bring the components of VQE together into a custom class which we've called `CustomVQE`.\n",
    "\n",
    "If you want more control over the measurement results and how the expectation values are computed, use the [Sampler primitive](https://qiskit.org/documentation/apidoc/primitives.html#overview-of-sampler) which will output the probabilities (or quasi-probabilities) of every measured state instead of expectation values."
   ]
  },
  {
   "cell_type": "code",
   "execution_count": null,
   "id": "25c2d053-97fb-4597-b716-d30b025d2a6f",
   "metadata": {},
   "outputs": [],
   "source": [
    "from qiskit.algorithms import MinimumEigensolver, VQEResult\n",
    "\n",
    "# Define a custome VQE class to orchestra the ansatz, classical optimizers, \n",
    "# initial point, callback, and final result\n",
    "class CustomVQE(MinimumEigensolver):\n",
    "    \n",
    "    def __init__(self, estimator, circuit, optimizer, callback=None):\n",
    "        self._estimator = estimator\n",
    "        self._circuit = circuit\n",
    "        self._optimizer = optimizer\n",
    "        self._callback = callback\n",
    "        \n",
    "    def compute_minimum_eigenvalue(self, operators, aux_operators=None):\n",
    "                \n",
    "        # Define objective function to classically minimize over\n",
    "        def objective(x):\n",
    "            # Execute job with estimator primitive\n",
    "            job = self._estimator.run([self._circuit], [operators], [x])\n",
    "            # Get results from jobs\n",
    "            est_result = job.result()\n",
    "            # Get the measured energy value\n",
    "            value = est_result.values[0]\n",
    "            # Save result information using callback function\n",
    "            if self._callback is not None:\n",
    "                self._callback(value)\n",
    "            return value\n",
    "            \n",
    "        # Select an initial point for the ansatzs' parameters\n",
    "        x0 = np.pi/4 * np.random.rand(self._circuit.num_parameters)\n",
    "        \n",
    "        # Run optimization\n",
    "        res = self._optimizer.minimize(objective, x0=x0)\n",
    "        \n",
    "        # Populate VQE result\n",
    "        result = VQEResult()\n",
    "        result.cost_function_evals = res.nfev\n",
    "        result.eigenvalue = res.fun\n",
    "        result.optimal_parameters = res.x\n",
    "        return result\n"
   ]
  },
  {
   "cell_type": "markdown",
   "id": "763b523a-94e5-40ae-89c1-caa045ffa563",
   "metadata": {},
   "source": [
    "### Callback\n",
    "It's important to know what's going on between the classical and quantum computer during the optimization. What parameter values is the classical optimizer picking? How does the convergence to the ground state energy behave?\n",
    "\n",
    "Defining a callback function gives us a chance to peek in. A simple callback method is defined below. See [this tutorial](https://qiskit.org/documentation/tutorials/algorithms/02_vqe_convergence.html) for more information and be sure to read the classical [optimizers' docs](https://qiskit.org/documentation/stubs/qiskit.algorithms.optimizers.html) for what specific values can be extracted during optimization. For example [SPSA](https://qiskit.org/documentation/stubs/qiskit.algorithms.optimizers.SPSA.html#qiskit.algorithms.optimizers.SPSA) returns: (nfev, parameters, value, stepsize, accepted)."
   ]
  },
  {
   "cell_type": "code",
   "execution_count": null,
   "id": "3c9f48d3-186e-419a-8e03-53d3e81d1fca",
   "metadata": {},
   "outputs": [],
   "source": [
    "# Define a simple callback function\n",
    "intermediate_info = []\n",
    "def callback(value):\n",
    "        intermediate_info.append(value)"
   ]
  },
  {
   "cell_type": "markdown",
   "id": "03488a94-62da-4f09-9b91-d6857e7dcc91",
   "metadata": {},
   "source": [
    "## 2-6 Execute simulated VQE\n",
    "The VQE is built! Time to test it out on a simulator. This may take a few seconds."
   ]
  },
  {
   "cell_type": "code",
   "execution_count": null,
   "id": "4f793a4d",
   "metadata": {},
   "outputs": [],
   "source": [
    "from qiskit.primitives import Estimator"
   ]
  },
  {
   "cell_type": "code",
   "execution_count": null,
   "id": "f04d92b9-0467-4c6f-b893-48e5035880b4",
   "metadata": {},
   "outputs": [],
   "source": [
    "# Define instance of qiskit-terra's Estimator primitive\n",
    "estimator = Estimator([ansatz_opt], [ham_16])\n",
    "\n",
    "# Setup VQE algorithm\n",
    "custom_vqe = CustomVQE(estimator, ansatz_opt, optimizer, callback=callback)\n",
    "\n",
    "# Run the custom VQE function and monitor execution time\n",
    "start = time()\n",
    "result = custom_vqe.compute_minimum_eigenvalue(ham_16)\n",
    "end = time()\n",
    "\n",
    "print(result)\n",
    "print(f'execution time (s): {end - start:.2f}')"
   ]
  },
  {
   "cell_type": "markdown",
   "id": "8ea85ca6-9c38-48af-8dc7-802ea94aa60a",
   "metadata": {},
   "source": [
    "In the print out above, the ground state energy is under \"eigenvalue\", and the optimal choice of parameters that goes with that energy is under \"optimal_parameters\". Let's plot the energy convergence data the callback function acquired."
   ]
  },
  {
   "cell_type": "code",
   "execution_count": null,
   "id": "04beda9f-aa08-45fc-95a5-63dbf916d881",
   "metadata": {},
   "outputs": [],
   "source": [
    "plt.plot(intermediate_info, color='purple', lw=2, label='Simulated VQE')\n",
    "plt.ylabel('Energy')\n",
    "plt.xlabel('Iterations')\n",
    "# Exact ground state energy value\n",
    "plt.axhline(y=gs_energy, color=\"tab:red\", ls=\"--\", lw=2, label=\"Target: \" + str(gs_energy))\n",
    "plt.legend()\n",
    "plt.grid()\n",
    "plt.show()"
   ]
  },
  {
   "cell_type": "markdown",
   "id": "7665fd9d-80af-4529-a3ff-d7d85b41da0a",
   "metadata": {},
   "source": [
    "The true ground state energy is -18.0. As a metric for how well the VQE found the ground state energy, we will compute the relative difference between -18.0 and what we just achieved with VQE. This will be the metric of performance in the judging criteria, though it's important to note that it's not the only useful metric when working with VQE. Remember that the lower the relative error the higher you will score."
   ]
  },
  {
   "cell_type": "markdown",
   "id": "18d51c29-1500-485e-8ced-3ebe717a983a",
   "metadata": {},
   "source": [
    "Expected ground state energy: -18.0000000000\n",
    "Computed ground state energy: -6.0904576051\n",
    "Relative error: 0.66164124"
   ]
  },
  {
   "cell_type": "code",
   "execution_count": null,
   "id": "17fa9823-dd6f-40a5-938a-744662133b00",
   "metadata": {},
   "outputs": [],
   "source": [
    "def rel_err(target, measured):\n",
    "    return abs((target - measured) / target)\n",
    "\n",
    "# Compute the relative error between the expected ground state energy and the VQE's output\n",
    "rel_error = rel_err(gs_energy, result.eigenvalue)\n",
    "\n",
    "print(f'Expected ground state energy: {gs_energy:.10f}')\n",
    "print(f'Computed ground state energy: {result.eigenvalue:.10f}')\n",
    "print(f'Relative error: {rel_error:.8f}')"
   ]
  },
  {
   "cell_type": "markdown",
   "id": "7519917a-8605-4445-bee2-efc839283604",
   "metadata": {},
   "source": [
    "## 3-1 Qiskit runtime (cloud simulator)\n",
    "\n",
    "Next we demonstrate how to run VQE using [qiskit_ibm_runtime](https://github.com/Qiskit/qiskit-ibm-runtime) **which has different syntax from qiskit terra's runtime**. The qiskit_ibm_runtime module includes the same programming model as qiskit terra, but qiskit_ibm_runtime has access to a cloud simulator and more importantly the ibmq_guadalupe device. To learn more about qiskit_ibm_runtime check out these tutorials from the docs: [a tutorial on the estimator](https://github.com/Qiskit/qiskit-ibm-runtime/blob/main/docs/tutorials/how-to-getting-started-with-estimator.ipynb) and [a tutorial on the sampler](https://github.com/Qiskit/qiskit-ibm-runtime/blob/main/docs/tutorials/how-to-getting-started-with-sampler.ipynb).\n",
    "\n",
    "We will use all the same VQE components we've built up so far, but the syntax for executing on the hardware is wrapped in [a session](https://quantum-computing.ibm.com/lab/docs/iql/manage/systems/sessions/) as shown in the following cells.\n",
    "\n",
    "We first demonstrate running VQE with the cloud simulator backend to check everything is working correctly. This may take a few minutes. After running on the cloud simulator, we make a simple switch of backends to the real ibmq_guadalupe device to get the final result. Depending on how your VQE is setup, this may take a couple hours."
   ]
  },
  {
   "cell_type": "code",
   "execution_count": null,
   "id": "1e42ae96-a23b-40dc-af63-f7067e708c98",
   "metadata": {},
   "outputs": [],
   "source": [
    "from qiskit_ibm_runtime import (QiskitRuntimeService, Session,\n",
    "                                Estimator as RuntimeEstimator)\n",
    "from qiskit import Aer\n",
    "\n",
    "# Save an IBM Quantum account. See docs for credential security warning\n",
    "# https://github.com/Qiskit/qiskit-ibm-runtime/tree/stable/0.7#saving-account-on-disk\n",
    "# QiskitRuntimeService.save_account(channel=\"ibm_quantum\", token=\"MY_IBM_QUANTUM_TOKEN\")\n",
    "service = QiskitRuntimeService(channel='ibm_quantum')"
   ]
  },
  {
   "cell_type": "code",
   "execution_count": null,
   "id": "cd58da58-d42c-4a83-b72a-b289009e4004",
   "metadata": {},
   "outputs": [],
   "source": [
    "# print available backend and select one\n",
    "print('Simulators:', service.backends(simulator=True))\n",
    "\n",
    "# Select a simulator backend\n",
    "backend = 'simulator_statevector'"
   ]
  },
  {
   "cell_type": "code",
   "execution_count": null,
   "id": "82c84117-6239-42c2-964d-7a3df3f709e1",
   "metadata": {},
   "outputs": [],
   "source": [
    "# Define a simple callback function\n",
    "intermediate_info_sim_backend = []\n",
    "def callback_sim(value):\n",
    "        intermediate_info_sim_backend.append(value)"
   ]
  },
  {
   "cell_type": "code",
   "execution_count": null,
   "id": "3be7fe16-6208-4e07-aa69-845baa874257",
   "metadata": {},
   "outputs": [],
   "source": [
    "# Setup Estimator\n",
    "start = time()\n",
    "with Session(service=service, backend=backend) as session:\n",
    "    # Prepare primitive\n",
    "    rt_estimator = RuntimeEstimator(session=session)\n",
    "    # Set up algorithm\n",
    "    custom_vqe = CustomVQE(rt_estimator, ansatz_opt, optimizer, callback=callback_sim)\n",
    "    # Run algorithm\n",
    "    result = custom_vqe.compute_minimum_eigenvalue(ham_16)\n",
    "end = time()\n",
    "print(f'execution time (s): {end - start:.2f}')"
   ]
  },
  {
   "cell_type": "code",
   "execution_count": null,
   "id": "a35dc309-ea85-42c3-8897-50e4e5a22625",
   "metadata": {},
   "outputs": [],
   "source": [
    "plt.plot(intermediate_info_sim_backend, color='purple', lw=2, label='Simulated VQE')\n",
    "plt.ylabel('Energy')\n",
    "plt.xlabel('Iterations')\n",
    "plt.axhline(y=gs_energy, color=\"tab:red\", ls=\"--\", lw=2, label=\"Target: \" + str(gs_energy))\n",
    "plt.legend()\n",
    "plt.grid()\n",
    "plt.show()"
   ]
  },
  {
   "cell_type": "code",
   "execution_count": null,
   "id": "0ca08bb6",
   "metadata": {},
   "outputs": [],
   "source": [
    "# Compute the relative error between the expected ground state energy and the measured\n",
    "rel_error = rel_err(gs_energy, result.eigenvalue)\n",
    "\n",
    "print(f'Expected ground state energy: {gs_energy:.10f}')\n",
    "print(f'Computed ground state energy: {result.eigenvalue:.10f}')\n",
    "print(f'Relative error: {rel_error:.8f}')"
   ]
  },
  {
   "cell_type": "markdown",
   "id": "355fe933-de34-4ce8-a6d8-11c00f6232f2",
   "metadata": {},
   "source": [
    "# Considerations\n",
    "Feeling stuck? Below are a list of questions and considerations to help spark new ideas for your VQE implementation.\n",
    "\n",
    "**Ansatz.** Carefully consult research literature for the best approach of ansatz selection. How might errors affect your ansatz? How many parameters are needed to reach the ground state? What properties of the Hamiltonian could help simplify the ansatz?\n",
    "\n",
    "**Classical optimizer.** What optimizer will pair well with for your choice of ansatz and measurement parameters? What noise do you expect from the quantum computer, and what noise sensitivity can the classical optimizer withstand? How many iterations will be needed?\n",
    "\n",
    "**Initial state/point.** Is there an initial quantum state that really helps things get going? What about a starting point for the circuit parameters? Does the VQE give the same results for different initial parameter values?\n",
    "\n",
    "**Number of measurements.** How does the number of shots affect the VQE's convergence to the ground state energy? The expectation value of the Hamiltonian is a sum of the expectation values of each of the 54 terms. What is the least number of circuit executions necessary to compute the expectation value of the Hamiltonian? What is the optimal number of circuit executions for stable convergence?\n",
    "\n",
    "**Many qubits.** Working with larger numbers of qubits is its own challenge. For example, what's a concise way of writing down or even visualizing the 4096 digit ground state? What methods and techniques will not scale well? What techniques would scale well if this VQE were to be done on a larger system? How can you reduce your execution time of the real device?\n",
    "\n",
    "**Error mitigation.** What errors are most prevalent, and how can you reduce them efficiently? What error mitigation techniques will scale well?"
   ]
  },
  {
   "cell_type": "code",
   "execution_count": null,
   "id": "10a0d2c6-091a-439c-864a-8d791a39eec9",
   "metadata": {},
   "outputs": [],
   "source": [
    "import qiskit_ibm_runtime\n",
    "qiskit_ibm_runtime.version.get_version_info()"
   ]
  },
  {
   "cell_type": "code",
   "execution_count": null,
   "id": "6044f597-1557-4a1a-8f00-d22ce4ff3a10",
   "metadata": {},
   "outputs": [],
   "source": [
    "import qiskit.tools.jupyter\n",
    "%qiskit_version_table"
   ]
  },
  {
   "cell_type": "code",
   "execution_count": null,
   "id": "9ee9ffa5-2d30-4255-adeb-8943ca8970ad",
   "metadata": {},
   "outputs": [],
   "source": []
  }
 ],
 "metadata": {
  "kernelspec": {
   "display_name": "Python 3 (ipykernel)",
   "language": "python",
   "name": "python3"
  },
  "language_info": {
   "codemirror_mode": {
    "name": "ipython",
    "version": 3
   },
   "file_extension": ".py",
   "mimetype": "text/x-python",
   "name": "python",
   "nbconvert_exporter": "python",
   "pygments_lexer": "ipython3",
   "version": "3.8.13"
  },
  "widgets": {
   "application/vnd.jupyter.widget-state+json": {
    "state": {},
    "version_major": 2,
    "version_minor": 0
   }
  }
 },
 "nbformat": 4,
 "nbformat_minor": 5
}
